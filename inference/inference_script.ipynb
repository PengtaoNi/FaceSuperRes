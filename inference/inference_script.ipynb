{
  "cells": [
    {
      "cell_type": "code",
      "execution_count": null,
      "metadata": {
        "id": "MDh4LmsltbcO"
      },
      "outputs": [],
      "source": [
        "!pip install basicsr"
      ]
    },
    {
      "cell_type": "code",
      "execution_count": null,
      "metadata": {
        "id": "AhQIC_02rmRm"
      },
      "outputs": [],
      "source": [
        "#zip file contains 30 images from celebA dataset\n",
        "!unzip celebA_ESRGAN_TEST.zip -d test_img \n",
        "\n",
        "#move your model pth to current directory"
      ]
    },
    {
      "cell_type": "code",
      "execution_count": null,
      "metadata": {
        "id": "m5ngQ7qJtT6X"
      },
      "outputs": [],
      "source": [
        "!mkdir results"
      ]
    },
    {
      "cell_type": "code",
      "execution_count": null,
      "metadata": {
        "id": "sG0zRDk9rKlE"
      },
      "outputs": [],
      "source": [
        "\n",
        "#!python inference_esrgan.py --model_path [MODEL PATH]\n",
        "\n",
        "#if model pth is in different directory or has different name, use command above\n",
        "!python inference_esrgan.py"
      ]
    },
    {
      "cell_type": "code",
      "execution_count": null,
      "metadata": {
        "id": "iRG3621Tthhv"
      },
      "outputs": [],
      "source": [
        "#results of every input test image should be in results folder"
      ]
    },
    {
      "cell_type": "code",
      "execution_count": null,
      "metadata": {},
      "outputs": [],
      "source": [
        "#calculate niqe scores for every output image generated \n",
        "\n",
        "import basicsr.metrics.niqe as niqe\n",
        "from PIL import Image\n",
        "from numpy import asarray\n",
        "import os \n",
        "\n",
        "results_imgs = os.listdir('results') \n",
        "for i in results_imgs:\n",
        "  img = Image.open(os.path.join('results', i))\n",
        "  img_array = asarray(img)  \n",
        "  score = niqe.calculate_niqe(img_array, crop_border=0)\n",
        "  print(i, score)"
      ]
    }
  ],
  "metadata": {
    "colab": {
      "provenance": []
    },
    "kernelspec": {
      "display_name": "Python 3",
      "name": "python3"
    },
    "language_info": {
      "name": "python"
    }
  },
  "nbformat": 4,
  "nbformat_minor": 0
}
