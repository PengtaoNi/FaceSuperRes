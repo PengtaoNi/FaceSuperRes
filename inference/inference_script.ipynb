{
  "cells": [
    {
      "cell_type": "markdown",
      "metadata": {},
      "source": [
        "# Preparation\n"
      ]
    },
    {
      "cell_type": "code",
      "execution_count": null,
      "metadata": {
        "id": "MDh4LmsltbcO"
      },
      "outputs": [],
      "source": [
        "!pip install basicsr"
      ]
    },
    {
      "cell_type": "code",
      "execution_count": null,
      "metadata": {
        "id": "AhQIC_02rmRm"
      },
      "outputs": [],
      "source": [
        "# zip file contains 30 images from celebA dataset\n",
        "!unzip celebA_ESRGAN_TEST.zip -d test_img\n",
        "\n",
        "# move your model path to current directory"
      ]
    },
    {
      "cell_type": "code",
      "execution_count": null,
      "metadata": {
        "id": "m5ngQ7qJtT6X"
      },
      "outputs": [],
      "source": [
        "!mkdir results"
      ]
    },
    {
      "cell_type": "markdown",
      "metadata": {},
      "source": [
        "# Testing\n"
      ]
    },
    {
      "cell_type": "markdown",
      "metadata": {},
      "source": [
        "`python inference_esrgan.py --model_path [MODEL PATH] --input [INPUT IMG FOLDER] --output [OUTPUT IMG FOLDER]`\n",
        "\n",
        "Default folder for Input test images is `inference/test_img`\n",
        "\n",
        "Default folder for Output results is `inference/results`\n"
      ]
    },
    {
      "cell_type": "code",
      "execution_count": null,
      "metadata": {
        "id": "sG0zRDk9rKlE"
      },
      "outputs": [],
      "source": [
        "# if model path is in different directory or has different name, change [MODEL PATH] in command above\n",
        "!python inference_esrgan.py"
      ]
    },
    {
      "cell_type": "code",
      "execution_count": null,
      "metadata": {},
      "outputs": [],
      "source": [
        "# calculate and show niqe scores for every output image generated\n",
        "\n",
        "import basicsr.metrics.niqe as niqe\n",
        "from PIL import Image\n",
        "from numpy import asarray\n",
        "import os\n",
        "\n",
        "results_imgs = os.listdir(\"results\")\n",
        "for i in results_imgs:\n",
        "    img = Image.open(os.path.join(\"results\", i))\n",
        "    img_array = asarray(img)\n",
        "    score = niqe.calculate_niqe(img_array, crop_border=0)\n",
        "    print(i, score)"
      ]
    },
    {
      "cell_type": "markdown",
      "metadata": {},
      "source": [
        "# Generate Results\n"
      ]
    },
    {
      "cell_type": "code",
      "execution_count": null,
      "metadata": {},
      "outputs": [],
      "source": [
        "!python inference_esrgan.py\n",
        "!python calculate_niqe.py"
      ]
    }
  ],
  "metadata": {
    "colab": {
      "provenance": []
    },
    "kernelspec": {
      "display_name": "Python 3",
      "name": "python3"
    },
    "language_info": {
      "codemirror_mode": {
        "name": "ipython",
        "version": 3
      },
      "file_extension": ".py",
      "mimetype": "text/x-python",
      "name": "python",
      "nbconvert_exporter": "python",
      "pygments_lexer": "ipython3",
      "version": "3.8.18"
    }
  },
  "nbformat": 4,
  "nbformat_minor": 0
}
