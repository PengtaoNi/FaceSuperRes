{
  "cells": [
    {
      "cell_type": "code",
      "execution_count": null,
      "metadata": {
        "id": "MDh4LmsltbcO"
      },
      "outputs": [],
      "source": [
        "!pip install basicsr"
      ]
    },
    {
      "cell_type": "code",
      "execution_count": null,
      "metadata": {
        "id": "AhQIC_02rmRm"
      },
      "outputs": [],
      "source": [
        "!unzip celebA_ESRGAN_TEST.zip -d test_img\n",
        "#move your model pth to current directory"
      ]
    },
    {
      "cell_type": "code",
      "execution_count": null,
      "metadata": {
        "id": "m5ngQ7qJtT6X"
      },
      "outputs": [],
      "source": [
        "!mkdir results"
      ]
    },
    {
      "cell_type": "code",
      "execution_count": null,
      "metadata": {
        "id": "sG0zRDk9rKlE"
      },
      "outputs": [],
      "source": [
        "\n",
        "#!python inference_esrgan.py --model_path [MODEL PATH]\n",
        "\n",
        "#if model pth is in different directory or has different name, use command above\n",
        "!python inference_esrgan.py"
      ]
    },
    {
      "cell_type": "code",
      "execution_count": null,
      "metadata": {
        "id": "iRG3621Tthhv"
      },
      "outputs": [],
      "source": [
        "#results of every input test image should be in results folder"
      ]
    }
  ],
  "metadata": {
    "colab": {
      "provenance": []
    },
    "kernelspec": {
      "display_name": "Python 3",
      "name": "python3"
    },
    "language_info": {
      "name": "python"
    }
  },
  "nbformat": 4,
  "nbformat_minor": 0
}
