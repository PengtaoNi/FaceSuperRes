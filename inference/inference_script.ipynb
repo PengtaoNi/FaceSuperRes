{
  "nbformat": 4,
  "nbformat_minor": 0,
  "metadata": {
    "colab": {
      "provenance": []
    },
    "kernelspec": {
      "name": "python3",
      "display_name": "Python 3"
    },
    "language_info": {
      "name": "python"
    }
  },
  "cells": [
    {
      "cell_type": "code",
      "source": [
        "!unzip /content/celebA_ESRGAN_TEST.zip -d /content/test_img\n"
      ],
      "metadata": {
        "id": "AhQIC_02rmRm"
      },
      "execution_count": null,
      "outputs": []
    },
    {
      "cell_type": "code",
      "source": [
        "!mkdir results"
      ],
      "metadata": {
        "id": "m5ngQ7qJtT6X"
      },
      "execution_count": 3,
      "outputs": []
    },
    {
      "cell_type": "code",
      "source": [
        "!pip install basicsr"
      ],
      "metadata": {
        "id": "MDh4LmsltbcO"
      },
      "execution_count": null,
      "outputs": []
    },
    {
      "cell_type": "code",
      "source": [
        "\n",
        "#!python inference_esrgan.py --model_path [MODEL PATH]\n",
        "\n",
        "#if model pth is in different directory or has different name, use command above\n",
        "!python inference_esrgan.py"
      ],
      "metadata": {
        "id": "sG0zRDk9rKlE"
      },
      "execution_count": null,
      "outputs": []
    },
    {
      "cell_type": "code",
      "source": [
        "#results of every input test image should be in results folder"
      ],
      "metadata": {
        "id": "iRG3621Tthhv"
      },
      "execution_count": null,
      "outputs": []
    }
  ]
}